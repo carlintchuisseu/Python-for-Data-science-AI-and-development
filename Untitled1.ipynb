{
 "cells": [
  {
   "cell_type": "code",
   "execution_count": 3,
   "id": "b1d817fe-d308-4713-aea8-5cc67fbee08c",
   "metadata": {},
   "outputs": [
    {
     "name": "stderr",
     "output_type": "stream",
     "text": [
      "Warning message in file(file, \"rt\"):\n",
      "“cannot open file 'D:/STAGE UWE/Rapport de stage UWE/Bases de données/data_ENF_Wallonie/Bel-first_Export_1.csv': No such file or directory”"
     ]
    },
    {
     "ename": "ERROR",
     "evalue": "Error in file(file, \"rt\"): cannot open the connection\n",
     "execution_count": 3,
     "output_type": "error",
     "traceback": [
      "Error in file(file, \"rt\"): cannot open the connection\nTraceback:\n",
      "1. read.csv(\"D:/STAGE UWE/Rapport de stage UWE/Bases de données/data_ENF_Wallonie/Bel-first_Export_1.csv\", \n .     header = TRUE, sep = \";\", dec = \",\")",
      "2. read.table(file = file, header = header, sep = sep, quote = quote, \n .     dec = dec, fill = fill, comment.char = comment.char, ...)",
      "3. file(file, \"rt\")"
     ]
    }
   ],
   "source": [
    "Belfirst_Export_1 <- read.csv(\"D:/STAGE UWE/Rapport de stage UWE/Bases de données/data_ENF_Wallonie/Bel-first_Export_1.csv\",header = TRUE, sep = \";\", dec=\",\")"
   ]
  },
  {
   "cell_type": "code",
   "execution_count": null,
   "id": "8dd21879-25d5-4e3d-bce9-76c914772aad",
   "metadata": {},
   "outputs": [],
   "source": []
  }
 ],
 "metadata": {
  "kernelspec": {
   "display_name": "R",
   "language": "R",
   "name": "conda-env-r-r"
  },
  "language_info": {
   "codemirror_mode": "r",
   "file_extension": ".r",
   "mimetype": "text/x-r-source",
   "name": "R",
   "pygments_lexer": "r",
   "version": "3.5.1"
  }
 },
 "nbformat": 4,
 "nbformat_minor": 5
}
