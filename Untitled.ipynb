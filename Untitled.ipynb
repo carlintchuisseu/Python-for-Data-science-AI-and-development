{
 "cells": [
  {
   "cell_type": "code",
   "execution_count": null,
   "id": "b5588c72-32ad-4b09-b158-909172287fa4",
   "metadata": {},
   "outputs": [],
   "source": []
  }
 ],
 "metadata": {
  "kernelspec": {
   "display_name": "R",
   "language": "R",
   "name": "conda-env-r-r"
  },
  "language_info": {
   "codemirror_mode": "r",
   "file_extension": ".r",
   "mimetype": "text/x-r-source",
   "name": "R",
   "pygments_lexer": "r",
   "version": "3.5.1"
  }
 },
 "nbformat": 4,
 "nbformat_minor": 5
}
